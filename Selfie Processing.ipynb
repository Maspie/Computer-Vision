{
 "cells": [
  {
   "cell_type": "code",
   "execution_count": 67,
   "id": "d52a8876-59c6-48ee-9f51-766a615e9c43",
   "metadata": {},
   "outputs": [
    {
     "data": {
      "text/plain": [
       "False"
      ]
     },
     "execution_count": 67,
     "metadata": {},
     "output_type": "execute_result"
    }
   ],
   "source": [
    "import cv2\n",
    "import numpy as np\n",
    "\n",
    "# Load and resize the image\n",
    "image = cv2.imread(\"C:/Users/Toshal/Downloads/toshal_warke.png\")\n",
    "image = cv2.resize(image, None, fx=0.1, fy=0.1, interpolation=cv2.INTER_AREA)\n",
    "\n",
    "# Convert to grayscale\n",
    "gray_image = cv2.cvtColor(image, cv2.COLOR_BGR2GRAY)\n",
    "\n",
    "# Detect faces\n",
    "face_cascade = cv2.CascadeClassifier(cv2.data.haarcascades + 'haarcascade_frontalface_default.xml')\n",
    "faces = face_cascade.detectMultiScale(gray_image, scaleFactor=1.1, minNeighbors=5, minSize=(30, 30))\n",
    "\n",
    "# Smooth the face region\n",
    "if len(faces) > 0:\n",
    "    (x, y, w, h) = faces[0]\n",
    "    face_region = image[y:y+h, x:x+w]\n",
    "    smooth_image = cv2.bilateralFilter(face_region, d=1, sigmaColor=10, sigmaSpace=5)\n",
    "    image[y:y+h, x:x+w] = smooth_image\n",
    "\n",
    "# Apply sharpening\n",
    "blurred_image = cv2.GaussianBlur(image, (9, 9), 10.0)\n",
    "sharpened_image = cv2.addWeighted(image, 1.5, blurred_image, -0.5, 0)\n",
    "\n",
    "# Edge detection\n",
    "gray_image = cv2.cvtColor(sharpened_image, cv2.COLOR_BGR2GRAY)\n",
    "edges = cv2.Canny(gray_image, 100, 200)\n",
    "edges_colored = cv2.cvtColor(edges, cv2.COLOR_GRAY2BGR)\n",
    "\n",
    "# Diffusion effect on edges with green tint\n",
    "blurred_edges = cv2.GaussianBlur(edges_colored, (15, 15), 10)\n",
    "tint_color = np.array([0, 50, 0], dtype=\"uint8\")  # Green tint\n",
    "tinted_edges = cv2.add(blurred_edges, tint_color)\n",
    "\n",
    "# Blend the original image with the tinted edges\n",
    "final_image = cv2.addWeighted(image, 1.0, tinted_edges, 0.5, 0)\n",
    "\n",
    "# Display the final image with the diffusion effect\n",
    "cv2.imshow('Edge Diffusion Effect', final_image)\n",
    "cv2.waitKey(0)\n",
    "cv2.destroyAllWindows()\n",
    "\n",
    "# Save the final image\n",
    "cv2.imwrite('/mnt/data/edge_diffusion_image.png', final_image)\n"
   ]
  },
  {
   "cell_type": "code",
   "execution_count": null,
   "id": "10ba029c-e09b-42c1-95e5-c3571523e2c8",
   "metadata": {},
   "outputs": [],
   "source": []
  }
 ],
 "metadata": {
  "kernelspec": {
   "display_name": "Python 3 (ipykernel)",
   "language": "python",
   "name": "python3"
  },
  "language_info": {
   "codemirror_mode": {
    "name": "ipython",
    "version": 3
   },
   "file_extension": ".py",
   "mimetype": "text/x-python",
   "name": "python",
   "nbconvert_exporter": "python",
   "pygments_lexer": "ipython3",
   "version": "3.11.7"
  }
 },
 "nbformat": 4,
 "nbformat_minor": 5
}
